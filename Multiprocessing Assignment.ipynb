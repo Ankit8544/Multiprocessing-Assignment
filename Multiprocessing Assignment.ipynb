{
 "cells": [
  {
   "cell_type": "markdown",
   "id": "cff8b718-81b6-4f2b-9601-70ff1722daa7",
   "metadata": {},
   "source": [
    "Q.No-01    What is multiprocessing in python? Why is it useful?"
   ]
  },
  {
   "cell_type": "markdown",
   "id": "c77762b3-c08b-47b7-a489-0632240ee6e8",
   "metadata": {},
   "source": [
    "Ans :-"
   ]
  },
  {
   "cell_type": "markdown",
   "id": "dd8658a1-4663-4176-9ce8-9fc0bee87023",
   "metadata": {},
   "source": [
    "Multiprocessing in Python refers to the ability of the Python programming language to run multiple processes simultaneously. It allows you to leverage the capabilities of multiple processor cores or CPUs on a system to perform tasks in parallel, thereby improving the overall performance and efficiency of your program.\n",
    "\n",
    "In Python, the `multiprocessing` module provides a way to create and manage multiple processes. It offers a high-level interface for spawning child processes, communicating between them, and synchronizing their execution."
   ]
  },
  {
   "cell_type": "markdown",
   "id": "34f2ad60-cce3-4607-9d62-ccc4cd0fcc37",
   "metadata": {},
   "source": [
    "Here are a few key concepts and features of multiprocessing in Python :-"
   ]
  },
  {
   "cell_type": "markdown",
   "id": "07f20ee6-452f-4d63-812c-5d8e6a6da9f8",
   "metadata": {},
   "source": [
    "1. **Process Creation**: The `multiprocessing` module allows you to create new processes using the `Process` class. Each process can run independently and execute its own set of instructions."
   ]
  },
  {
   "cell_type": "markdown",
   "id": "797d2b04-d906-4c3b-bb58-d2f4306e31f0",
   "metadata": {},
   "source": [
    "2. **Parallel Execution**: By using multiple processes, you can divide a task into smaller sub-tasks and execute them concurrently. This approach is particularly useful for computationally intensive tasks, such as data processing, scientific simulations, or complex calculations."
   ]
  },
  {
   "cell_type": "markdown",
   "id": "8aa42f4e-176e-404a-bc37-c2d4ddcf76d2",
   "metadata": {},
   "source": [
    "3. **Shared Memory**: The `multiprocessing` module provides shared memory objects, such as `Array` and `Value`, which allow data to be shared between multiple processes. This enables efficient communication and data exchange among the processes."
   ]
  },
  {
   "cell_type": "markdown",
   "id": "0d2b3bc8-b2e5-4f94-863b-412092fc6cef",
   "metadata": {},
   "source": [
    "4. **Communication**: Processes can communicate with each other using various mechanisms, including pipes, queues, and shared memory. These inter-process communication (IPC) mechanisms facilitate passing data between processes and coordination of their activities."
   ]
  },
  {
   "cell_type": "markdown",
   "id": "7d0cd5a7-66ac-4406-b56c-d3c476766077",
   "metadata": {},
   "source": [
    "5. **Resource Utilization**: Multiprocessing allows you to take advantage of the available CPU resources. By distributing the workload across multiple processes, you can utilize multiple cores or CPUs, leading to faster execution and improved overall performance."
   ]
  },
  {
   "cell_type": "markdown",
   "id": "75df8b5d-1c36-4cf8-be2f-34bd418f3cf1",
   "metadata": {},
   "source": [
    "6. **Fault Isolation**: Running tasks in separate processes provides a level of fault isolation. If one process encounters an error or crashes, it typically does not affect the execution of other processes. This helps in building robust and resilient applications."
   ]
  },
  {
   "cell_type": "markdown",
   "id": "d09404a5-3026-4d13-93b5-800a922be5dc",
   "metadata": {},
   "source": [
    "-------------------------------------------------------------------------------------------------------------------"
   ]
  },
  {
   "cell_type": "markdown",
   "id": "12551908-4c4a-4d55-83e6-83bab0244312",
   "metadata": {},
   "source": [
    "Q.No-02    What are the differences between multiprocessing and multithreading?"
   ]
  },
  {
   "cell_type": "markdown",
   "id": "fae89809-2e85-4ba8-b2ca-cdf8ee7a68eb",
   "metadata": {},
   "source": [
    "Ans :-"
   ]
  },
  {
   "cell_type": "markdown",
   "id": "c0941337-c361-417e-8c58-61b49152b4f2",
   "metadata": {},
   "source": [
    "Multiprocessing and multithreading are two different approaches to achieving concurrent execution of tasks in a computer program. Here are the key differences between multiprocessing and multithreading:"
   ]
  },
  {
   "cell_type": "markdown",
   "id": "e315ad9c-3213-4925-a37c-d28fa15feef5",
   "metadata": {},
   "source": [
    "1. **Definition** :-\n",
    "   - Multiprocessing: It involves the execution of multiple processes simultaneously, where each process has its own memory space and resources.\n",
    "   - Multithreading: It involves the execution of multiple threads within a single process, where all threads share the same memory space and resources."
   ]
  },
  {
   "cell_type": "markdown",
   "id": "76d6a94e-0e81-40e7-a91c-c8f38defab6b",
   "metadata": {},
   "source": [
    "2. **Memory Space** :-\n",
    "   - Multiprocessing: Each process has its own separate memory space, meaning that variables and data are not shared between processes by default. Communication between processes typically requires explicit inter-process communication mechanisms.\n",
    "   - Multithreading: All threads within a process share the same memory space, allowing them to directly access and modify the same variables and data. This can lead to potential synchronization issues and requires the use of synchronization mechanisms like locks or semaphores to coordinate access to shared resources."
   ]
  },
  {
   "cell_type": "markdown",
   "id": "26339918-a4b2-4f99-8e45-b775ab31690e",
   "metadata": {},
   "source": [
    "3. **Overhead** :-\n",
    "   - Multiprocessing: Creating and managing multiple processes usually incurs a higher overhead in terms of system resources and context switching between processes.\n",
    "   - Multithreading: Creating and managing multiple threads within a process generally has less overhead compared to multiprocessing since threads share the same resources and context switching between threads is usually faster."
   ]
  },
  {
   "cell_type": "markdown",
   "id": "038eb094-f291-4182-b18c-44d4d7cd976f",
   "metadata": {},
   "source": [
    "4. **Parallelism** :-\n",
    "   - Multiprocessing: Since each process runs in its own memory space, multiprocessing is well-suited for achieving true parallelism on multi-core or multi-processor systems. Each process can run on a separate core or processor.\n",
    "   - Multithreading: Threads run within the same process and share the same resources, so they are typically executed concurrently but not necessarily in parallel. The operating system or runtime environment schedules the threads to run on available cores or processors."
   ]
  },
  {
   "cell_type": "markdown",
   "id": "e9829fa1-942a-46d6-bf1b-1d511269d693",
   "metadata": {},
   "source": [
    "5. **Fault Isolation** :-\n",
    "   - Multiprocessing: If one process crashes or encounters an error, it does not affect other processes. Each process is isolated from others.\n",
    "   - Multithreading: If one thread encounters an error, such as an unhandled exception, it can potentially crash the entire process, affecting all other threads within that process. Proper error handling and synchronization mechanisms are crucial in multithreaded programs."
   ]
  },
  {
   "cell_type": "markdown",
   "id": "273e2f9f-275f-4284-9f95-1fb365f2a08a",
   "metadata": {},
   "source": [
    "6. **Complexity** :-\n",
    "   - Multiprocessing: Writing multiprocessing code often requires explicit inter-process communication and synchronization mechanisms, such as pipes, queues, or shared memory. Managing multiple processes can be more complex than managing threads.\n",
    "   - Multithreading: Threads share the same memory space and can directly communicate with each other through shared variables, which can simplify the development of concurrent programs. However, careful synchronization is required to avoid race conditions and other concurrency issues."
   ]
  },
  {
   "cell_type": "markdown",
   "id": "bc59b4fa-f889-4292-ac21-531397a22de4",
   "metadata": {},
   "source": [
    "-------------------------------------------------------------------------------------------------------------------"
   ]
  },
  {
   "cell_type": "markdown",
   "id": "db09e218-eb78-4fe2-a8cc-a9b8905d1aaa",
   "metadata": {},
   "source": [
    "Q.No-03    Write a python code to create a process using the multiprocessing module."
   ]
  },
  {
   "cell_type": "markdown",
   "id": "f9e3955d-39d3-4e23-a552-586542c66387",
   "metadata": {},
   "source": [
    "Ans :-"
   ]
  },
  {
   "cell_type": "code",
   "execution_count": 26,
   "id": "77e75e8b-cc02-4137-8a43-65e4a3bb4649",
   "metadata": {},
   "outputs": [
    {
     "name": "stdin",
     "output_type": "stream",
     "text": [
      "Enter the number :-   44\n"
     ]
    },
    {
     "name": "stdout",
     "output_type": "stream",
     "text": [
      "Square of 44.0: 1936.0\n",
      "Cube of 44.0: 85184.0\n"
     ]
    }
   ],
   "source": [
    "import logging\n",
    "Expo_Calculator = logging.getLogger('Expo_Calculator')\n",
    "Expo_Calculator.setLevel(logging.INFO)\n",
    "file_handler1 = logging.FileHandler('Expo_Calculator.log')\n",
    "file_handler1.setLevel(logging.INFO)\n",
    "formatter1 = logging.Formatter('%(name)s - %(levelname)s - %(message)s')\n",
    "file_handler1.setFormatter(formatter1)\n",
    "Expo_Calculator.addHandler(file_handler1)\n",
    "\n",
    "\n",
    "Expo_Calculator.info('Importing Multiprocessing')\n",
    "import multiprocessing\n",
    "\n",
    "Expo_Calculator.info('Defining a function to calculate Square')\n",
    "def calculate_square(number):\n",
    "    square = number ** 2\n",
    "    Expo_Calculator.info(f\"Square of {number}: {square}\")\n",
    "    print(f\"Square of {number}: {square}\")\n",
    "\n",
    "Expo_Calculator.info('Defining a function to calculate Square')\n",
    "def calculate_cube(number):\n",
    "    cube = number ** 3\n",
    "    Expo_Calculator.info(f\"Cube of {number}: {cube}\")\n",
    "    print(f\"Cube of {number}: {cube}\")\n",
    "\n",
    "if __name__ == \"__main__\":\n",
    "    number = float(input(\"Enter the number :-  \"))\n",
    "\n",
    "    square_process = multiprocessing.Process(target=calculate_square, args=(number,))\n",
    "    cube_process = multiprocessing.Process(target=calculate_cube, args=(number,))\n",
    "\n",
    "    square_process.start()\n",
    "    cube_process.start()\n",
    "\n",
    "    square_process.join()\n",
    "    cube_process.join()"
   ]
  },
  {
   "cell_type": "markdown",
   "id": "18e9bac9-01b5-43b1-97d9-30b8482ac3d2",
   "metadata": {},
   "source": [
    "-------------------------------------------------------------------------------------------------------------------"
   ]
  },
  {
   "cell_type": "markdown",
   "id": "63e1cf4b-52d3-4587-9fc1-f6577d8e7510",
   "metadata": {},
   "source": [
    "Q.No-04    What is a multiprocessing pool in python? Why is it used?"
   ]
  },
  {
   "cell_type": "markdown",
   "id": "1393a413-ff5e-43ab-84c4-99ad4d6c5e2b",
   "metadata": {},
   "source": [
    "Ans :-"
   ]
  },
  {
   "cell_type": "markdown",
   "id": "19f6916b-a6f7-4974-b454-45b91b6658c1",
   "metadata": {},
   "source": [
    "The `multiprocessing.Pool` class is a part of this module and provides a convenient interface for distributing the execution of functions across multiple processes.\n",
    "\n",
    "The `multiprocessing.Pool` creates a pool of worker processes, typically equal to the number of CPU cores available. You can submit tasks to the pool, and it automatically distributes the workload among the workers, executing the tasks in parallel. This is especially useful for computationally intensive tasks or tasks that involve blocking I/O operations, where utilizing multiple processes can lead to significant performance improvements."
   ]
  },
  {
   "cell_type": "markdown",
   "id": "7c6cd445-a66c-4e72-b49a-b657208e04db",
   "metadata": {},
   "source": [
    "*    Example: -"
   ]
  },
  {
   "cell_type": "code",
   "execution_count": 27,
   "id": "970ca736-2876-4e23-9f3f-62203c959331",
   "metadata": {},
   "outputs": [
    {
     "name": "stdout",
     "output_type": "stream",
     "text": [
      "[1, 4, 9, 16, 25]\n"
     ]
    }
   ],
   "source": [
    "import logging\n",
    "Pool = logging.getLogger('Pool')\n",
    "Pool.setLevel(logging.INFO)\n",
    "file_handler2 = logging.FileHandler('Pool.log')\n",
    "file_handler2.setLevel(logging.INFO)\n",
    "formatter2 = logging.Formatter('%(name)s - %(levelname)s - %(message)s')\n",
    "file_handler2.setFormatter(formatter2)\n",
    "Pool.addHandler(file_handler2)\n",
    "\n",
    "Pool.info('Importing Multiprocessing')\n",
    "import multiprocessing\n",
    "\n",
    "Pool.info('Function to be executed in parallel')\n",
    "def square(x):\n",
    "    return x ** 2\n",
    "\n",
    "if __name__ == '__main__':\n",
    "    Pool.info('Create a multiprocessing pool with 4 worker processes')\n",
    "    pool = multiprocessing.Pool(processes=4)\n",
    "\n",
    "    Pool.info('List of numbers to square')\n",
    "    numbers = [1, 2, 3, 4, 5]\n",
    "\n",
    "    Pool.info('Apply the square function to the numbers using the pool')\n",
    "    results = pool.map(square, numbers)\n",
    "\n",
    "    Pool.info('Close the pool to prevent any more tasks from being submitted')\n",
    "    pool.close()\n",
    "\n",
    "    Pool.info('Wait for the worker processes to finish')\n",
    "    pool.join()\n",
    "\n",
    "    Pool.info('Print the results')\n",
    "    Pool.info(results)\n",
    "    print(results)"
   ]
  },
  {
   "cell_type": "markdown",
   "id": "3edf554f-6a08-4f86-8105-9423aa46f708",
   "metadata": {},
   "source": [
    "The main advantages of using a `multiprocessing.Pool` are:\n",
    "\n",
    "1. **Parallel Execution**: The pool enables concurrent execution of tasks, where each task is executed by a separate process. This can significantly reduce the overall execution time by utilizing multiple cores of the CPU.\n",
    "\n",
    "2. **Worker Pool Management**: The `multiprocessing.Pool` takes care of managing the worker processes, including starting them up, distributing tasks, and collecting results. You don't need to handle the process creation and management manually.\n",
    "\n",
    "3. **Easy Abstraction**: The pool interface provides a simple and abstract way to deal with parallel processing. You can focus on defining your tasks and submitting them to the pool, without worrying about the low-level details of process creation and synchronization.\n",
    "\n",
    "4. **Result Retrieval**: The pool allows you to retrieve the results of the executed tasks conveniently. It provides methods like `apply_async()` and `map()` that return the results when the tasks are completed."
   ]
  },
  {
   "cell_type": "markdown",
   "id": "db67a1f0-c7ce-4ba2-96dc-4ae078734696",
   "metadata": {},
   "source": [
    "-------------------------------------------------------------------------------------------------------------------"
   ]
  },
  {
   "cell_type": "markdown",
   "id": "5958742f-00bc-458f-9803-74edd8c0c14f",
   "metadata": {},
   "source": [
    "Q.No-05    How can we create a pool of worker processes in python using the multiprocessing module?"
   ]
  },
  {
   "cell_type": "markdown",
   "id": "8ba92139-f7bd-4f4b-9c80-f1d51d9c2bb3",
   "metadata": {},
   "source": [
    "Ans :-"
   ]
  },
  {
   "cell_type": "markdown",
   "id": "1f441824-d485-402e-a41c-a3fa3137f492",
   "metadata": {},
   "source": [
    "To create a pool of worker processes in Python using the `multiprocessing` module, you can follow these steps:"
   ]
  },
  {
   "cell_type": "code",
   "execution_count": 28,
   "id": "76646d55-a93a-4b22-9000-9ef14449aa8b",
   "metadata": {},
   "outputs": [],
   "source": [
    "import logging\n",
    "Worker_Processes = logging.getLogger('Worker_Processes')\n",
    "Worker_Processes.setLevel(logging.INFO)\n",
    "file_handler3 = logging.FileHandler('Worker_Processes.log')\n",
    "file_handler3.setLevel(logging.INFO)\n",
    "formatter3 = logging.Formatter('%(name)s - %(levelname)s - %(message)s')\n",
    "file_handler3.setFormatter(formatter3)\n",
    "Worker_Processes.addHandler(file_handler3)"
   ]
  },
  {
   "cell_type": "markdown",
   "id": "7531b949-1e90-4920-82b5-6fabb415ecfb",
   "metadata": {},
   "source": [
    "1. Import the necessary modules:"
   ]
  },
  {
   "cell_type": "code",
   "execution_count": 29,
   "id": "3f29f1cc-050f-4126-9e88-ccac22cb43ac",
   "metadata": {},
   "outputs": [],
   "source": [
    "Worker_Processes.info('Importing Multiprocessing')\n",
    "import multiprocessing"
   ]
  },
  {
   "cell_type": "markdown",
   "id": "a84bfbb1-b4f5-4a9f-b581-8e6a6b101408",
   "metadata": {},
   "source": [
    "2. Define a function that will be executed by each worker process in the pool. This function should take one or more arguments and perform the desired task. For example:"
   ]
  },
  {
   "cell_type": "code",
   "execution_count": 30,
   "id": "b704c539-09d5-4294-83d0-eb4974fcfb6f",
   "metadata": {},
   "outputs": [],
   "source": [
    "Worker_Processes.info('Define Worker Processes function')\n",
    "def process_data(data):\n",
    "    Worker_Processes.info('This is the function that will be executed by each worker process')\n",
    "    Worker_Processes.info('You can perform your data processing or any other tasks here')\n",
    "    result = data * 2\n",
    "    return result"
   ]
  },
  {
   "cell_type": "markdown",
   "id": "ceac1295-7fb7-4241-b09e-40eaac7c8eac",
   "metadata": {},
   "source": [
    "3. Create a `Pool` object with the desired number of worker processes. You can specify the number of processes explicitly, or you can omit it to use the default number of processes (usually equal to the number of CPU cores). For example, to create a pool with four processes:"
   ]
  },
  {
   "cell_type": "code",
   "execution_count": 31,
   "id": "f31d1b75-8105-44c4-9964-a3189d25fe56",
   "metadata": {},
   "outputs": [],
   "source": [
    "if __name__ == '__main__':\n",
    "    Worker_Processes.info('The number of worker processes in the pool')\n",
    "    num_processes = 4\n",
    "\n",
    "    Worker_Processes.info('Create a pool of worker processes')\n",
    "    pool = multiprocessing.Pool(processes=num_processes)"
   ]
  },
  {
   "cell_type": "markdown",
   "id": "d4f80a81-d60c-42a5-8201-a7f19126fa7a",
   "metadata": {},
   "source": [
    "4. Use the `map()` or `apply()` method of the `Pool` object to assign tasks to the worker processes and retrieve the results. The `map()` method is useful when you have an iterable of arguments, and it automatically distributes the tasks among the available worker processes. The `apply()` method is useful when you have a single argument or want more control over the assignment of tasks. Here are examples of both methods:"
   ]
  },
  {
   "cell_type": "code",
   "execution_count": 32,
   "id": "1734034e-e620-4b0e-8099-4d9b588fe403",
   "metadata": {},
   "outputs": [],
   "source": [
    "input_data = [1, 2, 3, 4, 5]\n",
    "Worker_Processes.info('Input data for the worker processes')\n",
    "\n",
    "Worker_Processes.info('Apply the process_data function to each input data using the pool of worker processes')\n",
    "results = pool.map(process_data, input_data)"
   ]
  },
  {
   "cell_type": "markdown",
   "id": "62f572b2-b3bb-46de-b1be-983e59bee087",
   "metadata": {},
   "source": [
    "5. Once you have obtained the results, you can process them further as needed."
   ]
  },
  {
   "cell_type": "markdown",
   "id": "f687f698-1e5e-4dd8-b66b-34438408b1a2",
   "metadata": {},
   "source": [
    "6. Finally, don't forget to close the pool and join the worker processes to ensure proper cleanup. You can use the `close()` method to prevent any new tasks from being submitted and the `join()` method to wait for all the worker processes to finish:"
   ]
  },
  {
   "cell_type": "code",
   "execution_count": 33,
   "id": "86fa3d60-9502-4ed8-9550-6c89ae99a6cb",
   "metadata": {},
   "outputs": [],
   "source": [
    "Worker_Processes.info('Close the pool to prevent any more tasks from being submitted')\n",
    "pool.close()\n",
    "\n",
    "Worker_Processes.info('Wait for all worker processes to complete')\n",
    "pool.join()"
   ]
  },
  {
   "cell_type": "markdown",
   "id": "45e95fe0-e441-4e96-9f03-cc37358accb9",
   "metadata": {},
   "source": [
    "That's it! You have successfully created a pool of worker processes using the `multiprocessing` module in Python."
   ]
  },
  {
   "cell_type": "code",
   "execution_count": 34,
   "id": "285c5eed-ff0b-4bb9-a183-752c2b35b8b9",
   "metadata": {},
   "outputs": [
    {
     "name": "stdout",
     "output_type": "stream",
     "text": [
      "[2, 4, 6, 8, 10]\n"
     ]
    }
   ],
   "source": [
    "Worker_Processes.info('Print the results')\n",
    "Worker_Processes.info(results)\n",
    "print(results)"
   ]
  },
  {
   "cell_type": "markdown",
   "id": "a986a748-e576-4b6d-925b-6f973afc3b95",
   "metadata": {},
   "source": [
    "-------------------------------------------------------------------------------------------------------------------"
   ]
  },
  {
   "cell_type": "markdown",
   "id": "ef885b74-c695-42a9-8660-6ba7c03338e3",
   "metadata": {},
   "source": [
    "Q.No-06    Write a python program to create 4 processes, each process should print a different number using the\n",
    "multiprocessing module in python."
   ]
  },
  {
   "cell_type": "markdown",
   "id": "edcf99f2-26e3-4770-94f6-2cf458b5b954",
   "metadata": {},
   "source": [
    "Ans :-"
   ]
  },
  {
   "cell_type": "code",
   "execution_count": 36,
   "id": "26f99b23-42e7-4f49-a50b-4001f9f2052b",
   "metadata": {},
   "outputs": [
    {
     "name": "stdout",
     "output_type": "stream",
     "text": [
      "1\n",
      "2\n",
      "3\n",
      "4\n"
     ]
    }
   ],
   "source": [
    "import logging\n",
    "Process_4 = logging.getLogger('Process_4')\n",
    "Process_4.setLevel(logging.INFO)\n",
    "file_handler4 = logging.FileHandler('Process_4.log')\n",
    "file_handler4.setLevel(logging.INFO)\n",
    "formatter4 = logging.Formatter('%(name)s - %(levelname)s - %(message)s')\n",
    "file_handler4.setFormatter(formatter4)\n",
    "Process_4.addHandler(file_handler4)\n",
    "\n",
    "\n",
    "Process_4.info('Importing Multiprocessing')\n",
    "import multiprocessing\n",
    "\n",
    "Process_4.info('Define a function to print number')\n",
    "def print_number(number):\n",
    "    Process_4.info(number)\n",
    "    print(number)\n",
    "\n",
    "if __name__ == '__main__':\n",
    "    processes = []\n",
    "    numbers = [1, 2, 3, 4]\n",
    "\n",
    "    for number in numbers:\n",
    "        process = multiprocessing.Process(target=print_number, args=(number,))\n",
    "        processes.append(process)\n",
    "        process.start()\n",
    "\n",
    "    for process in processes:\n",
    "        process.join()"
   ]
  },
  {
   "cell_type": "code",
   "execution_count": null,
   "id": "ef27048b-ed66-450a-a642-88ae8d45adc6",
   "metadata": {},
   "outputs": [],
   "source": []
  }
 ],
 "metadata": {
  "kernelspec": {
   "display_name": "Python 3 (ipykernel)",
   "language": "python",
   "name": "python3"
  },
  "language_info": {
   "codemirror_mode": {
    "name": "ipython",
    "version": 3
   },
   "file_extension": ".py",
   "mimetype": "text/x-python",
   "name": "python",
   "nbconvert_exporter": "python",
   "pygments_lexer": "ipython3",
   "version": "3.10.8"
  }
 },
 "nbformat": 4,
 "nbformat_minor": 5
}
